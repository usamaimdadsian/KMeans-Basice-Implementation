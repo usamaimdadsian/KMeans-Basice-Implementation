{
 "cells": [
  {
   "cell_type": "code",
   "execution_count": 1,
   "metadata": {},
   "outputs": [],
   "source": [
    "import pandas as pd\n",
    "import numpy as np"
   ]
  },
  {
   "cell_type": "code",
   "execution_count": 2,
   "metadata": {},
   "outputs": [],
   "source": [
    "# true_values = pd.rea\n",
    "df = pd.read_csv('redoxpredictions.csv')\n",
    "true_values = df['y_true'].to_numpy()\n",
    "predicted_values = df['predicted probability for positive class'].to_numpy()"
   ]
  },
  {
   "cell_type": "code",
   "execution_count": 3,
   "metadata": {},
   "outputs": [],
   "source": [
    "def perf_measure(y_actual, y_hat):\n",
    "   TP = 0\n",
    "   FP = 0\n",
    "   TN = 0\n",
    "   FN = 0\n",
    "\n",
    "   for i in range(len(y_hat)): \n",
    "      if y_actual[i]==y_hat[i]==1:\n",
    "         TP += 1\n",
    "      if y_hat[i]==1 and y_actual[i]!=y_hat[i]:\n",
    "         FP += 1\n",
    "      if y_actual[i]==y_hat[i]==0:\n",
    "         TN += 1\n",
    "      if y_hat[i]==0 and y_actual[i]!=y_hat[i]:\n",
    "         FN += 1\n",
    "\n",
    "   return (TP, FP, TN, FN)"
   ]
  },
  {
   "cell_type": "code",
   "execution_count": 4,
   "metadata": {},
   "outputs": [],
   "source": [
    "def findStats(y_true,predictions,threshold, stats = True):\n",
    "    predictions = np.copy(predictions)\n",
    "    predictions[predictions > threshold] = 1\n",
    "    predictions[predictions < 1] = 0\n",
    "    predictions = predictions.astype(int)\n",
    "    # df['new'] = predictions\n",
    "    \n",
    "    # return\n",
    "    # print(np.sum(predictions))\n",
    "    \n",
    "    total_predictions = len(predictions)\n",
    "    correct_predictions = (y_true == predictions).sum()\n",
    "    # Find True Positive, False Positive, True Negative, False Negative\n",
    "    TP, FP, TN, FN =perf_measure(y_true,predictions) \n",
    "    \n",
    "    accuracy, precision, recall, f1, tpr, fpr = (0,0,0,0,0,0)\n",
    "    # Accuracy\n",
    "    accuracy = correct_predictions/total_predictions\n",
    "    # precision\n",
    "    if not (TP+FP) == 0: precision = TP/(TP+FP)\n",
    "    # Recall\n",
    "    if not (TP+FN) == 0: recall = TP/(TP+FN)\n",
    "    # F1 Score\n",
    "    if not TP+((1/2)*(FP+FN)) == 0: f1 = TP/(TP+((1/2)*(FP+FN)))\n",
    "    # TPR\n",
    "    if not TP+FN == 0: tpr = TP/(TP+FN)\n",
    "    # FPR\n",
    "    if not TP+FN == 0: fpr = FP/(FP+TN)\n",
    "    \n",
    "    if stats:\n",
    "        print(f\"For Threshold: {threshold}\")\n",
    "        print('Accuracy:',round(accuracy,4))\n",
    "        print('Precision:',round(precision,4))\n",
    "        print('Recall',round(recall,4))\n",
    "        print('F1',round(f1,4))\n",
    "        print('TPR',round(tpr,4))\n",
    "        print('FPR',round(fpr,4))\n",
    "    \n",
    "    return (accuracy, precision, recall, f1, tpr, fpr)"
   ]
  },
  {
   "cell_type": "markdown",
   "metadata": {},
   "source": [
    "## Q#1.1 "
   ]
  },
  {
   "cell_type": "code",
   "execution_count": 5,
   "metadata": {},
   "outputs": [
    {
     "name": "stdout",
     "output_type": "stream",
     "text": [
      "For Threshold: 0.5\n",
      "Accuracy: 0.7092\n",
      "Precision: 0.7018\n",
      "Recall 0.5884\n",
      "F1 0.6401\n",
      "TPR 0.5884\n",
      "FPR 0.196\n"
     ]
    },
    {
     "data": {
      "text/plain": [
       "(0.709211986681465,\n",
       " 0.7018072289156626,\n",
       " 0.5883838383838383,\n",
       " 0.6401098901098901,\n",
       " 0.5883838383838383,\n",
       " 0.19603960396039605)"
      ]
     },
     "execution_count": 5,
     "metadata": {},
     "output_type": "execute_result"
    }
   ],
   "source": [
    "findStats(true_values,predicted_values,0.5)"
   ]
  },
  {
   "cell_type": "markdown",
   "metadata": {},
   "source": [
    "## Q#1.2"
   ]
  },
  {
   "cell_type": "code",
   "execution_count": 6,
   "metadata": {},
   "outputs": [
    {
     "name": "stdout",
     "output_type": "stream",
     "text": [
      "For Threshold: 0.3\n",
      "Accuracy: 0.5782\n",
      "Precision: 0.511\n",
      "Recall 0.9407\n",
      "F1 0.6622\n",
      "TPR 0.9407\n",
      "FPR 0.7059\n"
     ]
    },
    {
     "data": {
      "text/plain": [
       "(0.5782463928967814,\n",
       " 0.5109739368998628,\n",
       " 0.9406565656565656,\n",
       " 0.6622222222222223,\n",
       " 0.9406565656565656,\n",
       " 0.7059405940594059)"
      ]
     },
     "execution_count": 6,
     "metadata": {},
     "output_type": "execute_result"
    }
   ],
   "source": [
    "findStats(true_values,predicted_values,0.3) "
   ]
  },
  {
   "cell_type": "code",
   "execution_count": 7,
   "metadata": {},
   "outputs": [
    {
     "name": "stdout",
     "output_type": "stream",
     "text": [
      "For Threshold: 0.7\n",
      "Accuracy: 0.5649\n",
      "Precision: 0.7857\n",
      "Recall 0.0139\n",
      "F1 0.0273\n",
      "TPR 0.0139\n",
      "FPR 0.003\n"
     ]
    },
    {
     "data": {
      "text/plain": [
       "(0.564927857935627,\n",
       " 0.7857142857142857,\n",
       " 0.013888888888888888,\n",
       " 0.02729528535980149,\n",
       " 0.013888888888888888,\n",
       " 0.0029702970297029703)"
      ]
     },
     "execution_count": 7,
     "metadata": {},
     "output_type": "execute_result"
    }
   ],
   "source": [
    "findStats(true_values,predicted_values,0.7)"
   ]
  },
  {
   "cell_type": "markdown",
   "metadata": {},
   "source": [
    "## Q#1.3"
   ]
  },
  {
   "cell_type": "markdown",
   "metadata": {},
   "source": [
    "When threshold is 0.3 or 0.7 the accuracy is around 50-60% because their threshold is too extreme which means it effects a lot on the predictions values. When threshold is 0.7 only small number of predictions are 1 and for 0.3 a very large number of predictions become 1 for both cases it effect the accuracy. For 0.5 the accuracy jumps up to 70% as it is a moderate threshold and number of 1's and 0's are around same."
   ]
  },
  {
   "cell_type": "markdown",
   "metadata": {},
   "source": [
    "## Q#1.4"
   ]
  },
  {
   "cell_type": "code",
   "execution_count": 8,
   "metadata": {},
   "outputs": [
    {
     "name": "stdout",
     "output_type": "stream",
     "text": [
      "Recalls: [0.6106399383191982, 0.6106399383191982, 0.6319218241042345, 0.672645739910314, 0.6566806470940683, 0.5072933549432739, 0.20793140407288319, 0.0, 0.0, 0.0]\n",
      "Precisions: [0.43951165371809103, 0.43951165371809103, 0.46634615384615385, 0.5555555555555556, 0.6248574686431014, 0.7081447963800905, 0.6879432624113475, 0, 0, 0]\n"
     ]
    }
   ],
   "source": [
    "thresholds = np.linspace(0,1,10)\n",
    "recalls = []\n",
    "precisions = []\n",
    "for threshold in thresholds:\n",
    "    # _,t_precision, t_recall, _, _, _=findStats(true_values,predicted_values,threshold,False)\n",
    "    temp=findStats(true_values,predicted_values,threshold,False)\n",
    "    # break\n",
    "    precisions.append(temp[1])\n",
    "    recalls.append(temp[3])\n",
    "print('Recalls:',recalls)\n",
    "print('Precisions:',precisions)"
   ]
  },
  {
   "cell_type": "markdown",
   "metadata": {},
   "source": [
    "## Q#1.5"
   ]
  },
  {
   "cell_type": "code",
   "execution_count": 9,
   "metadata": {},
   "outputs": [
    {
     "data": {
      "text/plain": [
       "Text(0.5, 0, 'Threshold')"
      ]
     },
     "execution_count": 9,
     "metadata": {},
     "output_type": "execute_result"
    },
    {
     "data": {
      "image/png": "[encoded data removed]",
      "text/plain": [
       "<Figure size 432x288 with 1 Axes>"
      ]
     },
     "metadata": {
      "needs_background": "light"
     },
     "output_type": "display_data"
    }
   ],
   "source": [
    "import matplotlib.pyplot as plt\n",
    "plt.plot(thresholds,recalls,label=\"Recall\",color=\"blue\")\n",
    "plt.plot(thresholds,precisions,label=\"Precision\",color=\"red\")\n",
    "plt.legend()\n",
    "plt.xlabel('Threshold')"
   ]
  },
  {
   "cell_type": "markdown",
   "metadata": {},
   "source": [
    "## Q#1.6"
   ]
  },
  {
   "cell_type": "code",
   "execution_count": 10,
   "metadata": {},
   "outputs": [
    {
     "data": {
      "text/plain": [
       "Text(0.5, 0, 'recalls')"
      ]
     },
     "execution_count": 10,
     "metadata": {},
     "output_type": "execute_result"
    },
    {
     "data": {
      "image/png": "[encoded data removed]",
      "text/plain": [
       "<Figure size 432x288 with 1 Axes>"
      ]
     },
     "metadata": {
      "needs_background": "light"
     },
     "output_type": "display_data"
    }
   ],
   "source": [
    "plt.plot(recalls,precisions,label=\"Recalls\",color=\"blue\")\n",
    "plt.legend()\n",
    "plt.ylabel('precisions')\n",
    "plt.xlabel('recalls')"
   ]
  },
  {
   "cell_type": "markdown",
   "metadata": {},
   "source": [
    "# Q2"
   ]
  },
  {
   "cell_type": "code",
   "execution_count": 11,
   "metadata": {},
   "outputs": [],
   "source": [
    "import numpy as np\n",
    "import matplotlib.pyplot as plt"
   ]
  },
  {
   "cell_type": "code",
   "execution_count": 12,
   "metadata": {},
   "outputs": [],
   "source": [
    "def findDistance(p1,p2):\n",
    "    return np.sqrt((p2[0]-p1[0])**2+(p2[1]-p1[1])**2)"
   ]
  },
  {
   "cell_type": "code",
   "execution_count": 13,
   "metadata": {},
   "outputs": [],
   "source": [
    "def findMean(arr):\n",
    "    size = len(arr)\n",
    "    if size == 0:\n",
    "        x,y =(0,0)\n",
    "    else:\n",
    "        x = int(sum([i[0] for i in arr])/size)\n",
    "        y = int(sum([i[1] for i in arr])/size)\n",
    "    return (x,y)"
   ]
  },
  {
   "cell_type": "code",
   "execution_count": 14,
   "metadata": {},
   "outputs": [
    {
     "name": "stdout",
     "output_type": "stream",
     "text": [
      "======================= Iteration: 1 =======================\n",
      "cluster 1 []\n",
      "cluster 2 [(15, 12), (24, 10), (30, 45), (85, 70), (71, 80), (60, 78), (55, 52), (80, 91)]\n",
      "u1 (0, 0)\n",
      "u2 (52, 54)\n",
      "\n",
      "\n",
      "\n",
      "======================= Iteration: 2 =======================\n",
      "cluster 1 [(5, 3), (10, 15), (15, 12), (24, 10)]\n",
      "cluster 2 [(30, 45), (85, 70), (71, 80), (60, 78), (55, 52), (80, 91)]\n",
      "u1 (13, 10)\n",
      "u2 (63, 69)\n",
      "\n",
      "\n",
      "\n",
      "======================= Iteration: 3 =======================\n",
      "cluster 1 [(5, 3), (10, 15), (15, 12), (24, 10), (30, 45)]\n",
      "cluster 2 [(85, 70), (71, 80), (60, 78), (55, 52), (80, 91)]\n",
      "u1 (16, 17)\n",
      "u2 (70, 74)\n",
      "\n",
      "\n",
      "\n",
      "======================= Iteration: 4 =======================\n",
      "cluster 1 [(5, 3), (10, 15), (15, 12), (24, 10), (30, 45)]\n",
      "cluster 2 [(85, 70), (71, 80), (60, 78), (55, 52), (80, 91)]\n",
      "u1 (16, 17)\n",
      "u2 (70, 74)\n",
      "\n",
      "\n",
      "\n",
      "======================= Iteration: 5 =======================\n",
      "cluster 1 [(5, 3), (10, 15), (15, 12), (24, 10), (30, 45)]\n",
      "cluster 2 [(85, 70), (71, 80), (60, 78), (55, 52), (80, 91)]\n",
      "u1 (16, 17)\n",
      "u2 (70, 74)\n",
      "\n",
      "\n",
      "\n",
      "======================= Iteration: 6 =======================\n",
      "cluster 1 [(5, 3), (10, 15), (15, 12), (24, 10), (30, 45)]\n",
      "cluster 2 [(85, 70), (71, 80), (60, 78), (55, 52), (80, 91)]\n",
      "u1 (16, 17)\n",
      "u2 (70, 74)\n",
      "\n",
      "\n",
      "\n",
      "======================= Iteration: 7 =======================\n",
      "cluster 1 [(5, 3), (10, 15), (15, 12), (24, 10), (30, 45)]\n",
      "cluster 2 [(85, 70), (71, 80), (60, 78), (55, 52), (80, 91)]\n",
      "u1 (16, 17)\n",
      "u2 (70, 74)\n",
      "\n",
      "\n",
      "\n",
      "======================= Iteration: 8 =======================\n",
      "cluster 1 [(5, 3), (10, 15), (15, 12), (24, 10), (30, 45)]\n",
      "cluster 2 [(85, 70), (71, 80), (60, 78), (55, 52), (80, 91)]\n",
      "u1 (16, 17)\n",
      "u2 (70, 74)\n",
      "\n",
      "\n",
      "\n",
      "======================= Iteration: 9 =======================\n",
      "cluster 1 [(5, 3), (10, 15), (15, 12), (24, 10), (30, 45)]\n",
      "cluster 2 [(85, 70), (71, 80), (60, 78), (55, 52), (80, 91)]\n",
      "u1 (16, 17)\n",
      "u2 (70, 74)\n",
      "\n",
      "\n",
      "\n",
      "======================= Iteration: 10 =======================\n",
      "cluster 1 [(5, 3), (10, 15), (15, 12), (24, 10), (30, 45)]\n",
      "cluster 2 [(85, 70), (71, 80), (60, 78), (55, 52), (80, 91)]\n",
      "u1 (16, 17)\n",
      "u2 (70, 74)\n",
      "\n",
      "\n",
      "\n"
     ]
    }
   ],
   "source": [
    "data = [(5,3),(10,15),(15,12),(24,10),(30,45),(85,70),(71,80),(60,78),(55,52),(80,91)]\n",
    "sse_data = []\n",
    "u1 = (5,3)\n",
    "u2 = (10,15)\n",
    "\n",
    "for i in range(10):\n",
    "    c1 = []\n",
    "    c2 = []\n",
    "    temp = data[i]\n",
    "    # u1 = (temp[0] - u1[0],temp[1]-u1[1]) \n",
    "    # u2 = (temp[0] - u2[0],temp[1]-u2[1]) \n",
    "    for s_data in data:\n",
    "        if s_data != u1 and s_data != u2:\n",
    "            # print(findDistance(u1,s_data),findDistance(u2,s_data))\n",
    "            if findDistance(u1,s_data) < findDistance(u2,s_data):\n",
    "                c1.append(s_data)\n",
    "            else:\n",
    "                c2.append(s_data) \n",
    "        # print(f\"{u1} - {s_data}\",findDistance(u1,s_data))\n",
    "        # print(f\"{u2} - {s_data}\",findDistance(u2,s_data))\n",
    "    u1 = findMean(c1)\n",
    "    u2 = findMean(c2)\n",
    "    \n",
    "    print(f\"======================= Iteration: {i+1} =======================\")\n",
    "    print('cluster 1',c1)\n",
    "    print('cluster 2',c2)\n",
    "    print('u1',u1)\n",
    "    print('u2',u2)\n",
    "    print('\\n\\n')\n",
    "    sse_data.append([u1,c1,u2,c2])"
   ]
  },
  {
   "cell_type": "markdown",
   "metadata": {},
   "source": [
    "## Q#2.2"
   ]
  },
  {
   "cell_type": "code",
   "execution_count": 15,
   "metadata": {},
   "outputs": [
    {
     "name": "stdout",
     "output_type": "stream",
     "text": [
      "[(5, 3), (10, 15), (15, 12), (24, 10), (30, 45)]\n"
     ]
    },
    {
     "data": {
      "text/plain": [
       "<matplotlib.collections.PathCollection at 0x7fd9ba105370>"
      ]
     },
     "execution_count": 15,
     "metadata": {},
     "output_type": "execute_result"
    },
    {
     "data": {
      "image/png": "[encoded data removed]",
      "text/plain": [
       "<Figure size 432x288 with 1 Axes>"
      ]
     },
     "metadata": {
      "needs_background": "light"
     },
     "output_type": "display_data"
    }
   ],
   "source": [
    "print(c1)\n",
    "c1x = [i[0] for i in c1]\n",
    "c1y = [i[1] for i in c1]\n",
    "c2x = [i[0] for i in c2]\n",
    "c2y = [i[1] for i in c2]\n",
    "plt.scatter(c1x,c1y,marker='s',color='red')\n",
    "plt.scatter(c2x,c2y,marker='o',color='blue')\n"
   ]
  },
  {
   "cell_type": "markdown",
   "metadata": {},
   "source": [
    "## Q#2.3"
   ]
  },
  {
   "cell_type": "code",
   "execution_count": 16,
   "metadata": {},
   "outputs": [],
   "source": [
    "sse1 = []\n",
    "sse2 = []\n",
    "for dt in sse_data:\n",
    "    center1 = dt[0]\n",
    "    temp1 = []\n",
    "    for td in dt[1]:\n",
    "        temp1.append(findDistance(center1,td))\n",
    "    sse1.append(sum(temp1))\n",
    "    center2 = dt[2]\n",
    "    temp2 = []\n",
    "    for td in dt[1]:\n",
    "        temp2.append(findDistance(center2,td))\n",
    "    sse2.append(sum(temp2))"
   ]
  },
  {
   "cell_type": "code",
   "execution_count": 17,
   "metadata": {},
   "outputs": [
    {
     "data": {
      "text/plain": [
       "Text(0.5, 0, 'Iterations')"
      ]
     },
     "execution_count": 17,
     "metadata": {},
     "output_type": "execute_result"
    },
    {
     "data": {
      "image/png": "[encoded data removed]",
      "text/plain": [
       "<Figure size 432x288 with 1 Axes>"
      ]
     },
     "metadata": {
      "needs_background": "light"
     },
     "output_type": "display_data"
    }
   ],
   "source": [
    "x = np.linspace(1,10,10)\n",
    "plt.scatter(x,sse1)\n",
    "plt.scatter(x,sse2)\n",
    "plt.xlabel('Iterations')"
   ]
  },
  {
   "cell_type": "markdown",
   "metadata": {},
   "source": [
    "## Q#3"
   ]
  },
  {
   "cell_type": "code",
   "execution_count": 10,
   "metadata": {},
   "outputs": [],
   "source": [
    "from sklearn.cluster import KMeans\n",
    "import numpy as np\n",
    "import matplotlib.pyplot as plt"
   ]
  },
  {
   "cell_type": "code",
   "execution_count": 2,
   "metadata": {},
   "outputs": [],
   "source": [
    "def kmeans(clusters):\n",
    "    km = KMeans(n_clusters=clusters, init='k-means++', n_init=10)\n",
    "    return km"
   ]
  },
  {
   "cell_type": "code",
   "execution_count": 51,
   "metadata": {},
   "outputs": [],
   "source": [
    "from sklearn.metrics import silhouette_score\n",
    "from sklearn.metrics import silhouette_samples\n",
    "def train_km(n_clusters,data):\n",
    "    km = kmeans(n_clusters)\n",
    "    km.fit(data)\n",
    "    labels = km.labels_\n",
    "    centers = km.cluster_centers_\n",
    "    unique_labels = np.unique(labels)\n",
    "    sse = km.inertia_\n",
    "    avg_silhouette = silhouette_score(data,labels,metric='euclidean')\n",
    "    sil_samples = silhouette_samples(data,labels,metric='euclidean')\n",
    "    \n",
    "    # cluster_centers = [data[km.labels_ == i].mean(axis=0) for i in range(n_clusters)]\n",
    "\n",
    "    # clusterwise_sse = [0, 0, 0]\n",
    "    # for point, label in zip(data, km.labels_):\n",
    "    #     clusterwise_sse[label] += np.square(point - cluster_centers[label]).sum()\n",
    "        \n",
    "    return (km,labels, unique_labels, centers,sse,avg_silhouette,sil_samples)"
   ]
  },
  {
   "cell_type": "code",
   "execution_count": 31,
   "metadata": {},
   "outputs": [],
   "source": [
    "def plot_clusters(clusters,data,labels,centers):\n",
    "    colors = ['#4EACC5', '#FF9C34', '#4E9A06']\n",
    "    plt.figure\n",
    "    for k, col in zip(range(clusters), colors):\n",
    "        my_members = labels == k\n",
    "        cluster_center = centers[k]\n",
    "        plt.plot(data[my_members, 0], data[my_members, 1], 's',\n",
    "                markerfacecolor=col, markersize=4)\n",
    "        plt.plot(cluster_center[0], cluster_center[1], 'o', markerfacecolor=col,\n",
    "                markeredgecolor='k', markersize=6)\n",
    "    plt.title('KMeans')    \n",
    "    plt.grid(True)"
   ]
  },
  {
   "cell_type": "code",
   "execution_count": 48,
   "metadata": {},
   "outputs": [],
   "source": [
    "def plot_silhouette(km,df1,silhouette_vals):\n",
    "   y_predict = km.fit_predict(df1)\n",
    "   fig, ax = plt.subplots(1,1,figsize=(15,5))\n",
    "   # silhouette ploty_ticks = []\n",
    "   y_lower = y_upper = 0\n",
    "   for i,cluster in enumerate(np.unique(y_predict)):\n",
    "      cluster_silhouette_vals = silhouette_vals[y_predict ==cluster]\n",
    "      cluster_silhouette_vals.sort()\n",
    "      y_upper += len(cluster_silhouette_vals)\n",
    "      \n",
    "      ax.barh(range(y_lower,y_upper),cluster_silhouette_vals,height =1);   \n",
    "      ax.text(-0.03,(y_lower+y_upper)/2,str(i+1))\n",
    "      y_lower += len(cluster_silhouette_vals)       \n",
    "      # Get the average silhouette score    \n",
    "      avg_score = np.mean(silhouette_vals)\n",
    "      ax.axvline(avg_score,linestyle ='--',linewidth =2,color = 'green')\n",
    "      ax.set_yticks([])\n",
    "      ax.set_xlim([-0.1, 1])\n",
    "      ax.set_xlabel('Silhouette coefficient values')\n",
    "      ax.set_ylabel('Cluster labels')\n",
    "      ax.set_title('Silhouette plot for the various clusters');\n",
    "      \n",
    "      \n",
    "      # scatter plot of data colored with labels\n",
    "      \n",
    "      # ax[1].scatter(df2['petal length (cm)'],\n",
    "      # df2['petal width (cm)'] , c = y_predict);    ax[1].scatter(centroids[:,0],centroids[:,1],\n",
    "      # marker = '*' , c= 'r',s =250);\n",
    "      # ax[1].set_xlabel('Eruption time in mins')\n",
    "      # ax[1].set_ylabel('Waiting time to next eruption')\n",
    "      # ax[1].set_title('Visualization of clustered data', y=1.02)\n",
    "      \n",
    "      # plt.tight_layout()\n",
    "      # plt.suptitle(f' Silhouette analysis using k = {k}',fontsize=16,fontweight = 'semibold')\n",
    "      # plt.savefig(f'Silhouette_analysis_{k}.jpg')"
   ]
  },
  {
   "cell_type": "code",
   "execution_count": null,
   "metadata": {},
   "outputs": [],
   "source": [
    "# from sklearn.datasets import make_blobs\n",
    "# batch_size = 45\n",
    "# centers = [[1, 1], [-1, -1], [1, -1]]\n",
    "# n_clusters = len(centers)\n",
    "# data, labels_true = make_blobs(n_samples=3000, centers=centers, cluster_std=0.7)\n"
   ]
  },
  {
   "cell_type": "markdown",
   "metadata": {},
   "source": [
    "## Q#3.1 - 3.4"
   ]
  },
  {
   "cell_type": "code",
   "execution_count": 54,
   "metadata": {},
   "outputs": [
    {
     "name": "stdout",
     "output_type": "stream",
     "text": [
      "Labels:  [1 1 1 1 1 0 0 0 0 0]\n",
      "Centers:  [[70.2 74.2]\n",
      " [16.8 17. ]]\n",
      "SSE:  2964.3999999999996\n",
      "Average Silhouette Score:  0.6586004781412067\n",
      "Silhouette Values:  [0.75335717 0.79443852 0.80624426 0.74891255 0.22528633 0.71206556\n",
      " 0.77556859 0.707357   0.33442108 0.72835371]\n"
     ]
    },
    {
     "data": {
      "image/png": "[encoded data removed]",
      "text/plain": [
       "<Figure size 432x288 with 1 Axes>"
      ]
     },
     "metadata": {
      "needs_background": "light"
     },
     "output_type": "display_data"
    }
   ],
   "source": [
    "data = np.array([[5,3],[10,15],[15,12],[24,10],[30,45],[85,70],[71,80],[60,78],[55,52],[80,91]])\n",
    "n_clusters = 2\n",
    "# km = kmeans(n_clusters)\n",
    "km,labels, unique_labels, centers,sse,avg_silhouette,sil_samples = train_km(n_clusters,data)\n",
    "print('Labels: ',labels)\n",
    "print('Centers: ',centers)\n",
    "print('SSE: ',sse)\n",
    "print('Average Silhouette Score: ',avg_silhouette)\n",
    "print('Silhouette Values: ',sil_samples)\n",
    "# my_members = labels = \n",
    "plot_clusters(n_clusters,data,labels,centers)\n"
   ]
  },
  {
   "cell_type": "code",
   "execution_count": 55,
   "metadata": {},
   "outputs": [
    {
     "data": {
      "image/png": "[encoded data removed]",
      "text/plain": [
       "<Figure size 1080x360 with 1 Axes>"
      ]
     },
     "metadata": {
      "needs_background": "light"
     },
     "output_type": "display_data"
    }
   ],
   "source": [
    "plot_silhouette(km,data,sil_samples)"
   ]
  },
  {
   "cell_type": "markdown",
   "metadata": {},
   "source": [
    "## Q#3.5"
   ]
  },
  {
   "cell_type": "code",
   "execution_count": 52,
   "metadata": {},
   "outputs": [
    {
     "name": "stdout",
     "output_type": "stream",
     "text": [
      "Labels:  [1 1 1 1 2 0 0 0 2 0]\n",
      "Centers:  [[74.   79.75]\n",
      " [13.5  10.  ]\n",
      " [42.5  48.5 ]]\n",
      "SSE:  1198.75\n",
      "Average Silhouette Score:  0.5846934528951507\n",
      "Silhouette Values:  [0.73810959 0.76180858 0.79526803 0.6630334  0.33726268 0.5454937\n",
      " 0.67038486 0.42517804 0.25843372 0.65196193]\n"
     ]
    },
    {
     "data": {
      "image/png": "[encoded data removed]",
      "text/plain": [
       "<Figure size 432x288 with 1 Axes>"
      ]
     },
     "metadata": {
      "needs_background": "light"
     },
     "output_type": "display_data"
    }
   ],
   "source": [
    "data = np.array([[5,3],[10,15],[15,12],[24,10],[30,45],[85,70],[71,80],[60,78],[55,52],[80,91]])\n",
    "n_clusters = 3\n",
    "# km = kmeans(n_clusters)\n",
    "km,labels, unique_labels, centers,sse,avg_silhouette,sil_samples = train_km(n_clusters,data)\n",
    "print('Labels: ',labels)\n",
    "print('Centers: ',centers)\n",
    "print('SSE: ',sse)\n",
    "print('Average Silhouette Score: ',avg_silhouette)\n",
    "print('Silhouette Values: ',sil_samples)\n",
    "# my_members = labels = \n",
    "plot_clusters(n_clusters,data,labels,centers)\n"
   ]
  },
  {
   "cell_type": "code",
   "execution_count": 53,
   "metadata": {},
   "outputs": [
    {
     "data": {
      "image/png": "[encoded data removed]",
      "text/plain": [
       "<Figure size 1080x360 with 1 Axes>"
      ]
     },
     "metadata": {
      "needs_background": "light"
     },
     "output_type": "display_data"
    }
   ],
   "source": [
    "plot_silhouette(km,data,sil_samples)"
   ]
  },
  {
   "cell_type": "markdown",
   "metadata": {},
   "source": [
    "## Q#3.6"
   ]
  },
  {
   "cell_type": "code",
   "execution_count": 57,
   "metadata": {},
   "outputs": [
    {
     "data": {
      "text/plain": [
       "<matplotlib.collections.PathCollection at 0x7f8022551580>"
      ]
     },
     "execution_count": 57,
     "metadata": {},
     "output_type": "execute_result"
    },
    {
     "data": {
      "image/png": "[encoded data removed]",
      "text/plain": [
       "<Figure size 432x288 with 1 Axes>"
      ]
     },
     "metadata": {
      "needs_background": "light"
     },
     "output_type": "display_data"
    }
   ],
   "source": [
    "data = np.array([[5,3],[10,15],[15,12],[24,10],[30,45],[85,70],[71,80],[60,78],[55,52],[80,91]])\n",
    "ks = [2,3,4,5]\n",
    "sses = []\n",
    "for k in ks:\n",
    "    n_clusters = k\n",
    "    # km = kmeans(n_clusters)\n",
    "    km,labels, unique_labels, centers,sse,avg_silhouette,sil_samples = train_km(n_clusters,data)\n",
    "    sses.append(sse)\n",
    "    \n",
    "plt.scatter(ks,sses)\n"
   ]
  },
  {
   "cell_type": "markdown",
   "metadata": {},
   "source": [
    "<p>Optimal number of clusters are 3</p>"
   ]
  },
  {
   "cell_type": "markdown",
   "metadata": {},
   "source": [
    "## Q#3.7"
   ]
  },
  {
   "cell_type": "code",
   "execution_count": 58,
   "metadata": {},
   "outputs": [
    {
     "data": {
      "text/plain": [
       "<matplotlib.collections.PathCollection at 0x7f80225fe7c0>"
      ]
     },
     "execution_count": 58,
     "metadata": {},
     "output_type": "execute_result"
    },
    {
     "data": {
      "image/png": "[encoded data removed]",
      "text/plain": [
       "<Figure size 432x288 with 1 Axes>"
      ]
     },
     "metadata": {
      "needs_background": "light"
     },
     "output_type": "display_data"
    }
   ],
   "source": [
    "ks = [2,3,4,5]\n",
    "sil_coefficients = []\n",
    "for k in ks:\n",
    "    n_clusters = k\n",
    "    # km = kmeans(n_clusters)\n",
    "    km,labels, unique_labels, centers,sse,avg_silhouette,sil_samples = train_km(n_clusters,data)\n",
    "    sil_coefficients.append(avg_silhouette)\n",
    "    \n",
    "plt.scatter(ks,sil_coefficients)"
   ]
  }
 ],
 "metadata": {
  "interpreter": {
   "hash": "c7c2a26d0a656dfbf2b556ee81d35152ff64f17ec5fbf294a398778cc15406cd"
  },
  "kernelspec": {
   "display_name": "Python 3.8.10 64-bit ('env_default': venv)",
   "language": "python",
   "name": "python3"
  },
  "language_info": {
   "codemirror_mode": {
    "name": "ipython",
    "version": 3
   },
   "file_extension": ".py",
   "mimetype": "text/x-python",
   "name": "python",
   "nbconvert_exporter": "python",
   "pygments_lexer": "ipython3",
   "version": "3.8.10"
  }
 },
 "nbformat": 4,
 "nbformat_minor": 2
}
